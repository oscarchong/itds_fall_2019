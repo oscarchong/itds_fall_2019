{
 "cells": [
  {
   "cell_type": "code",
   "execution_count": 172,
   "metadata": {},
   "outputs": [],
   "source": [
    "import pandas as pd\n",
    "import numpy as np\n",
    "import re\n",
    "from sklearn.linear_model import LinearRegression"
   ]
  },
  {
   "cell_type": "code",
   "execution_count": 173,
   "metadata": {},
   "outputs": [],
   "source": [
    "test1 = pd.read_csv('./SE_rents2018_test1.csv')\n",
    "train1 = pd.read_csv('./SE_rents2018_train-Copy1.csv')"
   ]
  },
  {
   "cell_type": "code",
   "execution_count": 174,
   "metadata": {},
   "outputs": [
    {
     "data": {
      "text/plain": [
       "14000"
      ]
     },
     "execution_count": 174,
     "metadata": {},
     "output_type": "execute_result"
    }
   ],
   "source": [
    "df = train1.append(test1)\n",
    "len(df)"
   ]
  },
  {
   "cell_type": "code",
   "execution_count": 175,
   "metadata": {
    "scrolled": true
   },
   "outputs": [
    {
     "data": {
      "text/html": [
       "<div>\n",
       "<style scoped>\n",
       "    .dataframe tbody tr th:only-of-type {\n",
       "        vertical-align: middle;\n",
       "    }\n",
       "\n",
       "    .dataframe tbody tr th {\n",
       "        vertical-align: top;\n",
       "    }\n",
       "\n",
       "    .dataframe thead th {\n",
       "        text-align: right;\n",
       "    }\n",
       "</style>\n",
       "<table border=\"1\" class=\"dataframe\">\n",
       "  <thead>\n",
       "    <tr style=\"text-align: right;\">\n",
       "      <th></th>\n",
       "      <th>rental_id</th>\n",
       "      <th>addr_unit</th>\n",
       "      <th>building_id</th>\n",
       "      <th>bedrooms</th>\n",
       "      <th>bathrooms</th>\n",
       "      <th>size_sqft</th>\n",
       "      <th>created_at</th>\n",
       "      <th>addr_street</th>\n",
       "      <th>addr_city</th>\n",
       "      <th>addr_zip</th>\n",
       "      <th>...</th>\n",
       "      <th>has_garden</th>\n",
       "      <th>has_childrens_playroom</th>\n",
       "      <th>rent</th>\n",
       "      <th>no_fee</th>\n",
       "      <th>description</th>\n",
       "      <th>neighborhood</th>\n",
       "      <th>borough</th>\n",
       "      <th>unit</th>\n",
       "      <th>floornumber</th>\n",
       "      <th>line</th>\n",
       "    </tr>\n",
       "  </thead>\n",
       "  <tbody>\n",
       "    <tr>\n",
       "      <td>0</td>\n",
       "      <td>7236931</td>\n",
       "      <td>#22A</td>\n",
       "      <td>551248</td>\n",
       "      <td>4</td>\n",
       "      <td>3.0</td>\n",
       "      <td>1300.0</td>\n",
       "      <td>2018-06-04 16:31:06</td>\n",
       "      <td>645 OCEAN AVENUE</td>\n",
       "      <td>Brooklyn</td>\n",
       "      <td>11226</td>\n",
       "      <td>...</td>\n",
       "      <td>0</td>\n",
       "      <td>0</td>\n",
       "      <td>3925</td>\n",
       "      <td>1</td>\n",
       "      <td>MAGNIFICENT GUT RENOVATED 4 BEDROOM 3 BATHROOM...</td>\n",
       "      <td>Flatbush</td>\n",
       "      <td>Brooklyn</td>\n",
       "      <td>22A</td>\n",
       "      <td>NaN</td>\n",
       "      <td>NaN</td>\n",
       "    </tr>\n",
       "    <tr>\n",
       "      <td>1</td>\n",
       "      <td>7331920</td>\n",
       "      <td>#406</td>\n",
       "      <td>3373</td>\n",
       "      <td>0</td>\n",
       "      <td>1.0</td>\n",
       "      <td>475.0</td>\n",
       "      <td>2018-07-03 20:11:43</td>\n",
       "      <td>93 WORTH STREET</td>\n",
       "      <td>New York</td>\n",
       "      <td>10013</td>\n",
       "      <td>...</td>\n",
       "      <td>0</td>\n",
       "      <td>0</td>\n",
       "      <td>3350</td>\n",
       "      <td>0</td>\n",
       "      <td>Want to live in the hottest neighborhood in to...</td>\n",
       "      <td>Tribeca</td>\n",
       "      <td>Manhattan</td>\n",
       "      <td>406</td>\n",
       "      <td>4.0</td>\n",
       "      <td>06</td>\n",
       "    </tr>\n",
       "    <tr>\n",
       "      <td>2</td>\n",
       "      <td>7139224</td>\n",
       "      <td>#18A</td>\n",
       "      <td>70747</td>\n",
       "      <td>3</td>\n",
       "      <td>3.0</td>\n",
       "      <td>1886.0</td>\n",
       "      <td>2018-05-02 16:10:27</td>\n",
       "      <td>305 EAST 51 STREET</td>\n",
       "      <td>New York</td>\n",
       "      <td>10022</td>\n",
       "      <td>...</td>\n",
       "      <td>1</td>\n",
       "      <td>0</td>\n",
       "      <td>11500</td>\n",
       "      <td>0</td>\n",
       "      <td>High floor totally renovated 3 bedrooms, 3 bat...</td>\n",
       "      <td>Midtown East</td>\n",
       "      <td>Manhattan</td>\n",
       "      <td>18A</td>\n",
       "      <td>18.0</td>\n",
       "      <td>A</td>\n",
       "    </tr>\n",
       "    <tr>\n",
       "      <td>3</td>\n",
       "      <td>7364827</td>\n",
       "      <td>#23E</td>\n",
       "      <td>42076</td>\n",
       "      <td>1</td>\n",
       "      <td>1.0</td>\n",
       "      <td>827.0</td>\n",
       "      <td>2018-07-13 16:06:55</td>\n",
       "      <td>70 WEST 37TH STREET</td>\n",
       "      <td>New York</td>\n",
       "      <td>10018</td>\n",
       "      <td>...</td>\n",
       "      <td>0</td>\n",
       "      <td>0</td>\n",
       "      <td>3772</td>\n",
       "      <td>1</td>\n",
       "      <td>**SHORT TERM LEASES AVAILABLE**\\n\\n****Photogr...</td>\n",
       "      <td>Midtown South</td>\n",
       "      <td>Manhattan</td>\n",
       "      <td>23E</td>\n",
       "      <td>23.0</td>\n",
       "      <td>E</td>\n",
       "    </tr>\n",
       "    <tr>\n",
       "      <td>4</td>\n",
       "      <td>7242151</td>\n",
       "      <td>#3B</td>\n",
       "      <td>319156</td>\n",
       "      <td>3</td>\n",
       "      <td>1.0</td>\n",
       "      <td>1200.0</td>\n",
       "      <td>2018-06-05 16:35:40</td>\n",
       "      <td>43 MAC DONOUGH STREET</td>\n",
       "      <td>Brooklyn</td>\n",
       "      <td>11216</td>\n",
       "      <td>...</td>\n",
       "      <td>0</td>\n",
       "      <td>0</td>\n",
       "      <td>2595</td>\n",
       "      <td>1</td>\n",
       "      <td>This is a Huuge 3 bedroom apt. located in a pr...</td>\n",
       "      <td>Bedford-Stuyvesant</td>\n",
       "      <td>Brooklyn</td>\n",
       "      <td>3B</td>\n",
       "      <td>3.0</td>\n",
       "      <td>B</td>\n",
       "    </tr>\n",
       "  </tbody>\n",
       "</table>\n",
       "<p>5 rows × 39 columns</p>\n",
       "</div>"
      ],
      "text/plain": [
       "   rental_id addr_unit  building_id  bedrooms  bathrooms  size_sqft  \\\n",
       "0    7236931      #22A       551248         4        3.0     1300.0   \n",
       "1    7331920      #406         3373         0        1.0      475.0   \n",
       "2    7139224      #18A        70747         3        3.0     1886.0   \n",
       "3    7364827      #23E        42076         1        1.0      827.0   \n",
       "4    7242151       #3B       319156         3        1.0     1200.0   \n",
       "\n",
       "            created_at            addr_street addr_city  addr_zip  ...  \\\n",
       "0  2018-06-04 16:31:06       645 OCEAN AVENUE  Brooklyn     11226  ...   \n",
       "1  2018-07-03 20:11:43        93 WORTH STREET  New York     10013  ...   \n",
       "2  2018-05-02 16:10:27     305 EAST 51 STREET  New York     10022  ...   \n",
       "3  2018-07-13 16:06:55    70 WEST 37TH STREET  New York     10018  ...   \n",
       "4  2018-06-05 16:35:40  43 MAC DONOUGH STREET  Brooklyn     11216  ...   \n",
       "\n",
       "   has_garden  has_childrens_playroom   rent  no_fee  \\\n",
       "0           0                       0   3925       1   \n",
       "1           0                       0   3350       0   \n",
       "2           1                       0  11500       0   \n",
       "3           0                       0   3772       1   \n",
       "4           0                       0   2595       1   \n",
       "\n",
       "                                         description        neighborhood  \\\n",
       "0  MAGNIFICENT GUT RENOVATED 4 BEDROOM 3 BATHROOM...            Flatbush   \n",
       "1  Want to live in the hottest neighborhood in to...             Tribeca   \n",
       "2  High floor totally renovated 3 bedrooms, 3 bat...        Midtown East   \n",
       "3  **SHORT TERM LEASES AVAILABLE**\\n\\n****Photogr...       Midtown South   \n",
       "4  This is a Huuge 3 bedroom apt. located in a pr...  Bedford-Stuyvesant   \n",
       "\n",
       "     borough  unit  floornumber  line  \n",
       "0   Brooklyn   22A          NaN   NaN  \n",
       "1  Manhattan   406          4.0    06  \n",
       "2  Manhattan   18A         18.0     A  \n",
       "3  Manhattan   23E         23.0     E  \n",
       "4   Brooklyn    3B          3.0     B  \n",
       "\n",
       "[5 rows x 39 columns]"
      ]
     },
     "execution_count": 175,
     "metadata": {},
     "output_type": "execute_result"
    }
   ],
   "source": [
    "df.head()"
   ]
  },
  {
   "cell_type": "code",
   "execution_count": 176,
   "metadata": {},
   "outputs": [
    {
     "data": {
      "text/plain": [
       "14000"
      ]
     },
     "execution_count": 176,
     "metadata": {},
     "output_type": "execute_result"
    }
   ],
   "source": [
    "len(df)"
   ]
  },
  {
   "cell_type": "code",
   "execution_count": 177,
   "metadata": {},
   "outputs": [
    {
     "data": {
      "text/plain": [
       "addr_unit         110\n",
       "bin                 1\n",
       "year_built        470\n",
       "min_to_subway     143\n",
       "description        16\n",
       "neighborhood        3\n",
       "unit              114\n",
       "floornumber      1502\n",
       "line             4135\n",
       "dtype: int64"
      ]
     },
     "execution_count": 177,
     "metadata": {},
     "output_type": "execute_result"
    }
   ],
   "source": [
    "null_vals = df.apply(lambda col: sum(col.isnull()))\n",
    "null_vals[null_vals > 0]"
   ]
  },
  {
   "cell_type": "markdown",
   "metadata": {},
   "source": [
    "## Average Minutes to Subway"
   ]
  },
  {
   "cell_type": "code",
   "execution_count": 178,
   "metadata": {},
   "outputs": [
    {
     "data": {
      "text/html": [
       "<div>\n",
       "<style scoped>\n",
       "    .dataframe tbody tr th:only-of-type {\n",
       "        vertical-align: middle;\n",
       "    }\n",
       "\n",
       "    .dataframe tbody tr th {\n",
       "        vertical-align: top;\n",
       "    }\n",
       "\n",
       "    .dataframe thead th {\n",
       "        text-align: right;\n",
       "    }\n",
       "</style>\n",
       "<table border=\"1\" class=\"dataframe\">\n",
       "  <thead>\n",
       "    <tr style=\"text-align: right;\">\n",
       "      <th></th>\n",
       "      <th>min_to_subway</th>\n",
       "    </tr>\n",
       "    <tr>\n",
       "      <th>addr_zip</th>\n",
       "      <th></th>\n",
       "    </tr>\n",
       "  </thead>\n",
       "  <tbody>\n",
       "    <tr>\n",
       "      <td>10001</td>\n",
       "      <td>2.679276</td>\n",
       "    </tr>\n",
       "    <tr>\n",
       "      <td>10002</td>\n",
       "      <td>2.547199</td>\n",
       "    </tr>\n",
       "    <tr>\n",
       "      <td>10003</td>\n",
       "      <td>2.291036</td>\n",
       "    </tr>\n",
       "    <tr>\n",
       "      <td>10004</td>\n",
       "      <td>3.406370</td>\n",
       "    </tr>\n",
       "    <tr>\n",
       "      <td>10005</td>\n",
       "      <td>1.524446</td>\n",
       "    </tr>\n",
       "    <tr>\n",
       "      <td>...</td>\n",
       "      <td>...</td>\n",
       "    </tr>\n",
       "    <tr>\n",
       "      <td>11435</td>\n",
       "      <td>4.737484</td>\n",
       "    </tr>\n",
       "    <tr>\n",
       "      <td>11691</td>\n",
       "      <td>6.105567</td>\n",
       "    </tr>\n",
       "    <tr>\n",
       "      <td>11692</td>\n",
       "      <td>7.033300</td>\n",
       "    </tr>\n",
       "    <tr>\n",
       "      <td>11693</td>\n",
       "      <td>11.311133</td>\n",
       "    </tr>\n",
       "    <tr>\n",
       "      <td>11694</td>\n",
       "      <td>6.600000</td>\n",
       "    </tr>\n",
       "  </tbody>\n",
       "</table>\n",
       "<p>152 rows × 1 columns</p>\n",
       "</div>"
      ],
      "text/plain": [
       "          min_to_subway\n",
       "addr_zip               \n",
       "10001          2.679276\n",
       "10002          2.547199\n",
       "10003          2.291036\n",
       "10004          3.406370\n",
       "10005          1.524446\n",
       "...                 ...\n",
       "11435          4.737484\n",
       "11691          6.105567\n",
       "11692          7.033300\n",
       "11693         11.311133\n",
       "11694          6.600000\n",
       "\n",
       "[152 rows x 1 columns]"
      ]
     },
     "execution_count": 178,
     "metadata": {},
     "output_type": "execute_result"
    }
   ],
   "source": [
    "# Find the minutes to subway on average for each zipcode \n",
    "\n",
    "avg_subway_time_per_zip = df[['addr_zip', 'min_to_subway']].groupby('addr_zip').mean()\n",
    "avg_subway_time_per_zip"
   ]
  },
  {
   "cell_type": "code",
   "execution_count": 179,
   "metadata": {},
   "outputs": [],
   "source": [
    "# Fill in missing min_to_subway using average min_to_subway for corresponding zipcode\n",
    "\n",
    "df['min_to_subway'].fillna(df[df['min_to_subway'].isnull()].apply(lambda row: avg_subway_time_per_zip.loc[row['addr_zip']][0], axis=1), inplace=True)"
   ]
  },
  {
   "cell_type": "markdown",
   "metadata": {},
   "source": [
    "## Floor Count"
   ]
  },
  {
   "cell_type": "code",
   "execution_count": 180,
   "metadata": {},
   "outputs": [],
   "source": [
    "df.dropna(subset=['unit'], inplace = True)"
   ]
  },
  {
   "cell_type": "code",
   "execution_count": 181,
   "metadata": {},
   "outputs": [],
   "source": [
    "# Setting up data to be able to model floor count\n",
    "df = pd.get_dummies(df, columns=['borough'])\n",
    "data = df[['floor_count','floornumber', 'has_childrens_playroom', 'has_pool', 'has_concierge', 'has_garage', 'has_gym', 'borough_Queens', 'borough_Bronx', 'borough_Manhattan', 'borough_Brooklyn', 'borough_Staten Island']]\n",
    "data = data.dropna(subset=['floor_count', 'floornumber'])\n",
    "data = data.reset_index()"
   ]
  },
  {
   "cell_type": "code",
   "execution_count": 185,
   "metadata": {},
   "outputs": [],
   "source": [
    "# Fit the model\n",
    "\n",
    "clf = LinearRegression()\n",
    "features = ['floornumber', 'has_childrens_playroom', 'has_pool', 'has_concierge', 'has_garage', 'has_gym', 'borough_Queens', 'borough_Bronx', 'borough_Manhattan', 'borough_Brooklyn', 'borough_Staten Island']\n",
    "clf.fit(data[features], data['floor_count'])"
   ]
  },
  {
   "cell_type": "code",
   "execution_count": 187,
   "metadata": {},
   "outputs": [],
   "source": [
    "# Anything with floor count of 0 is labeled as NaN\n",
    "df.loc[df['floor_count'] == 0, 'floor_count'] = np.NaN"
   ]
  },
  {
   "cell_type": "code",
   "execution_count": 188,
   "metadata": {},
   "outputs": [],
   "source": [
    "test = df.loc[(df['floor_count'].isna()) & (df['floornumber'].isna() == 0)]"
   ]
  },
  {
   "cell_type": "code",
   "execution_count": 190,
   "metadata": {},
   "outputs": [],
   "source": [
    "# Predict with the model and round up to get floor count \n",
    "imputed_floorcount = np.ceil(clf.predict(test[features]))"
   ]
  },
  {
   "cell_type": "code",
   "execution_count": 191,
   "metadata": {},
   "outputs": [],
   "source": [
    "# Imput missing floor counts with predicted values\n",
    "df.loc[(df['floor_count'].isna()) & (df['floornumber'].isna() == 0), 'floor_count'] = imputed_floorcount"
   ]
  },
  {
   "cell_type": "code",
   "execution_count": 192,
   "metadata": {},
   "outputs": [],
   "source": [
    "# Manually fill in floor count for buildings where we don't have the floornumber or the floorcount \n",
    "df.loc[df['floor_count'].isna(), 'floor_count'] = [3.0, 3.0, 4.0, 7.0, 6.0, 2.0, 5.0, 6.0, 7.0, 6.0, 6.0, 18.0, 2.0, 4.0, 3.0, 12.0]"
   ]
  },
  {
   "cell_type": "code",
   "execution_count": 193,
   "metadata": {},
   "outputs": [],
   "source": [
    "# Make sure that the maximum floor count is at least the maximum floornumber for the given building\n",
    "df['floor_count'] = df[['floor_count', 'floornumber']].apply(lambda row: max(row['floor_count'], row['floornumber']), axis=1)"
   ]
  },
  {
   "cell_type": "markdown",
   "metadata": {},
   "source": [
    "## Floornumber"
   ]
  },
  {
   "cell_type": "code",
   "execution_count": 194,
   "metadata": {},
   "outputs": [],
   "source": [
    "df['unit_split'] = df['unit'].apply(lambda row: re.findall(r\"[^\\W\\d_]+|\\d+\", row))"
   ]
  },
  {
   "cell_type": "code",
   "execution_count": 195,
   "metadata": {},
   "outputs": [],
   "source": [
    "df['unit_num'] = df['unit_split'].apply(lambda row: list(filter(lambda x: x.isnumeric(), row)))"
   ]
  },
  {
   "cell_type": "code",
   "execution_count": 196,
   "metadata": {},
   "outputs": [],
   "source": [
    "df['unit_str'] = df['unit_split'].apply(lambda row: list(filter(lambda x: x.isnumeric() == 0, row)))"
   ]
  },
  {
   "cell_type": "code",
   "execution_count": 198,
   "metadata": {},
   "outputs": [],
   "source": [
    "# Make the floornumber the first number from the unit address\n",
    "\n",
    "floornumber_fill = df.loc[(df['floornumber'].isna()) & (df['unit_num'].apply(lambda row: len(row) > 0))].apply(\n",
    "    lambda row: int(row['unit_num'][0][0]) \n",
    "    if int(row['unit_num'][0][0]) <= row['floor_count'] \n",
    "    else np.NaN, axis = 1).dropna()\n",
    "\n",
    "floornumber_fill = floornumber_fill.loc[~floornumber_fill.index.duplicated(keep='first')]\n",
    "df['floornumber'].fillna(floornumber_fill, inplace=True)"
   ]
  },
  {
   "cell_type": "code",
   "execution_count": 200,
   "metadata": {},
   "outputs": [],
   "source": [
    "# A = first floor, B = second floor, C = third ...\n",
    "\n",
    "floornumber_fill = df.loc[(df['unit_num'].apply(lambda row: len(row) == 0)) & \n",
    "   (df['floornumber'].isna()) & \n",
    "   (df['unit_str'].apply(lambda row: len(row) > 0 and len(row[0]) == 1))].apply(\n",
    "        lambda row: float(ord(row['unit_str'][0]) - 64)\n",
    "        if float(ord(row['unit_str'][0]) - 64) <= row['floor_count']\n",
    "        else np.NaN, axis = 1\n",
    ").dropna()\n",
    "\n",
    "df['floornumber'].fillna(floornumber_fill, inplace=True)"
   ]
  },
  {
   "cell_type": "code",
   "execution_count": 202,
   "metadata": {},
   "outputs": [],
   "source": [
    "# if address contains TOP, make the floornumber top floor\n",
    "\n",
    "floornumber_fill = df.loc[df['addr_unit'].apply(lambda row: bool(re.match(r\".*TOP.*\", row)))].apply(\n",
    "    lambda row: row['floor_count'], axis = 1\n",
    ")\n",
    "\n",
    "df['floornumber'].fillna(floornumber_fill, inplace=True)"
   ]
  },
  {
   "cell_type": "code",
   "execution_count": 204,
   "metadata": {},
   "outputs": [],
   "source": [
    "# if address contains UP, make the floornumber top floor\n",
    "\n",
    "floornumber_fill = df.loc[df['addr_unit'].apply(lambda row: bool(re.match(r\".*UP.*\", row)))].apply(\n",
    "    lambda row: row['floor_count'], axis = 1\n",
    ")\n",
    "\n",
    "df['floornumber'].fillna(floornumber_fill, inplace=True)"
   ]
  },
  {
   "cell_type": "code",
   "execution_count": 205,
   "metadata": {},
   "outputs": [],
   "source": [
    "# if address contains GN -> Garden or ground -> floorcount = 1\n",
    "floornumber_fill = df.loc[df['addr_unit'].apply(lambda row: bool(re.match(r\".*G.*.*N.*\", row)))].apply(\n",
    "    lambda row: 1, axis = 1\n",
    ")\n",
    "\n",
    "df['floornumber'].fillna(floornumber_fill, inplace=True)"
   ]
  },
  {
   "cell_type": "code",
   "execution_count": 206,
   "metadata": {},
   "outputs": [],
   "source": [
    "# if address contains GD -> Garden or ground -> floorcount = 1, contains some things missed before due to misspelled words\n",
    "\n",
    "floornumber_fill = df.loc[df['addr_unit'].apply(lambda row: bool(re.match(r\".*G.*.D.*\", row)))].apply(\n",
    "    lambda row: 1, axis = 1\n",
    ")\n",
    "\n",
    "df['floornumber'].fillna(floornumber_fill, inplace=True)"
   ]
  },
  {
   "cell_type": "code",
   "execution_count": 207,
   "metadata": {},
   "outputs": [],
   "source": [
    "# Penthouse\n",
    "floornumber_fill = df.loc[df['addr_unit'].apply(lambda row: bool(re.match(r\".*PENT.*\", row)))].apply(\n",
    "    lambda row: row['floor_count'] , axis = 1\n",
    ")\n",
    "\n",
    "df['floornumber'].fillna(floornumber_fill, inplace=True)"
   ]
  },
  {
   "cell_type": "code",
   "execution_count": 208,
   "metadata": {},
   "outputs": [],
   "source": [
    "# PH = Penthouse\n",
    "floornumber_fill = df.loc[df['addr_unit'].apply(lambda row: bool(re.match(r\".*PH.*\", row)))].apply(\n",
    "    lambda row: row['floor_count'] , axis = 1\n",
    ")\n",
    "\n",
    "df['floornumber'].fillna(floornumber_fill, inplace=True)"
   ]
  },
  {
   "cell_type": "code",
   "execution_count": 209,
   "metadata": {},
   "outputs": [],
   "source": [
    "floornumber_fill = df.loc[df['addr_unit'].apply(lambda row: bool(re.match(r\".*ONE.*\", row)))].apply(\n",
    "    lambda row: 1 , axis = 1\n",
    ")\n",
    "\n",
    "df['floornumber'].fillna(floornumber_fill, inplace=True)"
   ]
  },
  {
   "cell_type": "code",
   "execution_count": 210,
   "metadata": {},
   "outputs": [],
   "source": [
    "floornumber_fill = df.loc[df['addr_unit'].apply(lambda row: bool(re.match(r\".*TWO.*\", row)))].apply(\n",
    "    lambda row: 2 , axis = 1\n",
    ")\n",
    "\n",
    "df['floornumber'].fillna(floornumber_fill, inplace=True)"
   ]
  },
  {
   "cell_type": "code",
   "execution_count": 211,
   "metadata": {},
   "outputs": [],
   "source": [
    "floornumber_fill = df.loc[df['addr_unit'].apply(lambda row: bool(re.match(r\".*THREE.*\", row)))].apply(\n",
    "    lambda row: 3 , axis = 1\n",
    ")\n",
    "\n",
    "df['floornumber'].fillna(floornumber_fill, inplace=True)"
   ]
  },
  {
   "cell_type": "code",
   "execution_count": 212,
   "metadata": {},
   "outputs": [],
   "source": [
    "df.loc[df['addr_unit'] == 'WALK-IN', 'floornumber'] = 1"
   ]
  },
  {
   "cell_type": "code",
   "execution_count": 213,
   "metadata": {},
   "outputs": [],
   "source": [
    "# Parlor \n",
    "floornumber_fill = df.loc[df['addr_unit'].apply(lambda row: bool(re.match(r\".*PA.*L.*R.*\", row)))].apply(\n",
    "    lambda row: 1, axis = 1\n",
    ")\n",
    "\n",
    "df['floornumber'].fillna(floornumber_fill, inplace=True)"
   ]
  },
  {
   "cell_type": "code",
   "execution_count": 214,
   "metadata": {},
   "outputs": [],
   "source": [
    "# Lower Level\n",
    "floornumber_fill = df.loc[df['addr_unit'].apply(lambda row: bool(re.match(r\".*LL.*\", row)))].apply(\n",
    "    lambda row: 1, axis = 1\n",
    ")\n",
    "\n",
    "df['floornumber'].fillna(floornumber_fill, inplace=True)"
   ]
  },
  {
   "cell_type": "code",
   "execution_count": 216,
   "metadata": {},
   "outputs": [],
   "source": [
    "# If we didn't get the answer from any previous conditions, make floornumber top floor\n",
    "\n",
    "floornumber_fill = df.loc[df['floornumber'].isna()].apply(lambda row: row['floor_count'], axis=1)\n",
    "floornumber_fill = floornumber_fill.loc[~floornumber_fill.index.duplicated(keep='first')]\n",
    "df['floornumber'].fillna(floornumber_fill, inplace=True)"
   ]
  },
  {
   "cell_type": "code",
   "execution_count": null,
   "metadata": {},
   "outputs": [],
   "source": []
  }
 ],
 "metadata": {
  "kernelspec": {
   "display_name": "Python 3",
   "language": "python",
   "name": "python3"
  },
  "language_info": {
   "codemirror_mode": {
    "name": "ipython",
    "version": 3
   },
   "file_extension": ".py",
   "mimetype": "text/x-python",
   "name": "python",
   "nbconvert_exporter": "python",
   "pygments_lexer": "ipython3",
   "version": "3.7.4"
  }
 },
 "nbformat": 4,
 "nbformat_minor": 2
}
