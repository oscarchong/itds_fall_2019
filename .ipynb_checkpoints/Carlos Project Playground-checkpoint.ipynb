{
 "cells": [
  {
   "cell_type": "code",
   "execution_count": 401,
   "metadata": {},
   "outputs": [],
   "source": [
    "import pandas as pd\n",
    "import numpy as np\n",
    "import re\n",
    "import matplotlib.pyplot as plt \n",
    "from sklearn.linear_model import LinearRegression\n",
    "import seaborn as sns\n",
    "%matplotlib inline"
   ]
  },
  {
   "cell_type": "code",
   "execution_count": 2,
   "metadata": {},
   "outputs": [],
   "source": [
    "test1 = pd.read_csv('./SE_rents2018_test1.csv')\n",
    "train1 = pd.read_csv('./SE_rents2018_train-Copy1.csv')"
   ]
  },
  {
   "cell_type": "code",
   "execution_count": 3,
   "metadata": {},
   "outputs": [
    {
     "data": {
      "text/plain": [
       "14000"
      ]
     },
     "execution_count": 3,
     "metadata": {},
     "output_type": "execute_result"
    }
   ],
   "source": [
    "df = train1.append(test1)\n",
    "len(df)"
   ]
  },
  {
   "cell_type": "code",
   "execution_count": 440,
   "metadata": {
    "scrolled": true
   },
   "outputs": [
    {
     "data": {
      "text/plain": [
       "'**SHORT TERM LEASES AVAILABLE**\\n\\n****Photographs of our interiors should be used to reference the apartment finishes. \\nPlease see floor plans for variations in layout.**** \\n\\n***UNITS ARE NOT FURNISHED***\\n\\n Centrally located in Midtown South\\n Close Proximity to BDFM and NQRW Subway Lines\\n 24-Hour Concierge\\n Laundry in Building\\n Pet-Friendly \\n Live-in Super\\n Work-from-Home Space \\n Package Room\\n Parking (optional)\\n Oversized Windows\\n Self-Controlled Heat and A/C\\n Ample Storage Space \\n Terraces & Balconies in Most Units \\n\\n*Please note we do not allow flex walls to be installed in our apartments*\\n\\n* Listed rent is net effective rent, based on a gross rent of $4115.00 and 0.5 Months Free'"
      ]
     },
     "execution_count": 440,
     "metadata": {},
     "output_type": "execute_result"
    }
   ],
   "source": []
  },
  {
   "cell_type": "code",
   "execution_count": 5,
   "metadata": {},
   "outputs": [
    {
     "data": {
      "text/plain": [
       "14000"
      ]
     },
     "execution_count": 5,
     "metadata": {},
     "output_type": "execute_result"
    }
   ],
   "source": [
    "len(df)"
   ]
  },
  {
   "cell_type": "code",
   "execution_count": 6,
   "metadata": {},
   "outputs": [
    {
     "data": {
      "text/plain": [
       "addr_unit         110\n",
       "bin                 1\n",
       "year_built        470\n",
       "min_to_subway     143\n",
       "description        16\n",
       "neighborhood        3\n",
       "unit              114\n",
       "floornumber      1502\n",
       "line             4135\n",
       "dtype: int64"
      ]
     },
     "execution_count": 6,
     "metadata": {},
     "output_type": "execute_result"
    }
   ],
   "source": [
    "null_vals = df.apply(lambda col: sum(col.isnull()))\n",
    "null_vals[null_vals > 0]"
   ]
  },
  {
   "cell_type": "markdown",
   "metadata": {},
   "source": [
    "## Average Minutes to Subway"
   ]
  },
  {
   "cell_type": "code",
   "execution_count": 7,
   "metadata": {},
   "outputs": [
    {
     "data": {
      "text/html": [
       "<div>\n",
       "<style scoped>\n",
       "    .dataframe tbody tr th:only-of-type {\n",
       "        vertical-align: middle;\n",
       "    }\n",
       "\n",
       "    .dataframe tbody tr th {\n",
       "        vertical-align: top;\n",
       "    }\n",
       "\n",
       "    .dataframe thead th {\n",
       "        text-align: right;\n",
       "    }\n",
       "</style>\n",
       "<table border=\"1\" class=\"dataframe\">\n",
       "  <thead>\n",
       "    <tr style=\"text-align: right;\">\n",
       "      <th></th>\n",
       "      <th>min_to_subway</th>\n",
       "    </tr>\n",
       "    <tr>\n",
       "      <th>addr_zip</th>\n",
       "      <th></th>\n",
       "    </tr>\n",
       "  </thead>\n",
       "  <tbody>\n",
       "    <tr>\n",
       "      <td>10001</td>\n",
       "      <td>2.679276</td>\n",
       "    </tr>\n",
       "    <tr>\n",
       "      <td>10002</td>\n",
       "      <td>2.547199</td>\n",
       "    </tr>\n",
       "    <tr>\n",
       "      <td>10003</td>\n",
       "      <td>2.291036</td>\n",
       "    </tr>\n",
       "    <tr>\n",
       "      <td>10004</td>\n",
       "      <td>3.406370</td>\n",
       "    </tr>\n",
       "    <tr>\n",
       "      <td>10005</td>\n",
       "      <td>1.524446</td>\n",
       "    </tr>\n",
       "    <tr>\n",
       "      <td>...</td>\n",
       "      <td>...</td>\n",
       "    </tr>\n",
       "    <tr>\n",
       "      <td>11435</td>\n",
       "      <td>4.737484</td>\n",
       "    </tr>\n",
       "    <tr>\n",
       "      <td>11691</td>\n",
       "      <td>6.105567</td>\n",
       "    </tr>\n",
       "    <tr>\n",
       "      <td>11692</td>\n",
       "      <td>7.033300</td>\n",
       "    </tr>\n",
       "    <tr>\n",
       "      <td>11693</td>\n",
       "      <td>11.311133</td>\n",
       "    </tr>\n",
       "    <tr>\n",
       "      <td>11694</td>\n",
       "      <td>6.600000</td>\n",
       "    </tr>\n",
       "  </tbody>\n",
       "</table>\n",
       "<p>152 rows × 1 columns</p>\n",
       "</div>"
      ],
      "text/plain": [
       "          min_to_subway\n",
       "addr_zip               \n",
       "10001          2.679276\n",
       "10002          2.547199\n",
       "10003          2.291036\n",
       "10004          3.406370\n",
       "10005          1.524446\n",
       "...                 ...\n",
       "11435          4.737484\n",
       "11691          6.105567\n",
       "11692          7.033300\n",
       "11693         11.311133\n",
       "11694          6.600000\n",
       "\n",
       "[152 rows x 1 columns]"
      ]
     },
     "execution_count": 7,
     "metadata": {},
     "output_type": "execute_result"
    }
   ],
   "source": [
    "# Find the minutes to subway on average for each zipcode \n",
    "\n",
    "avg_subway_time_per_zip = df[['addr_zip', 'min_to_subway']].groupby('addr_zip').mean()\n",
    "avg_subway_time_per_zip"
   ]
  },
  {
   "cell_type": "code",
   "execution_count": 8,
   "metadata": {},
   "outputs": [],
   "source": [
    "# Fill in missing min_to_subway using average min_to_subway for corresponding zipcode\n",
    "\n",
    "df['min_to_subway'].fillna(df[df['min_to_subway'].isnull()].apply(lambda row: avg_subway_time_per_zip.loc[row['addr_zip']][0], axis=1), inplace=True)"
   ]
  },
  {
   "cell_type": "code",
   "execution_count": 337,
   "metadata": {},
   "outputs": [
    {
     "data": {
      "text/plain": [
       "Int64Index([   0,    1,    2,    3,    4,    5,    6,    7,    8,    9,\n",
       "            ...\n",
       "            1990, 1991, 1992, 1993, 1994, 1995, 1996, 1997, 1998, 1999],\n",
       "           dtype='int64', length=13886)"
      ]
     },
     "execution_count": 337,
     "metadata": {},
     "output_type": "execute_result"
    }
   ],
   "source": [
    "df.index"
   ]
  },
  {
   "cell_type": "markdown",
   "metadata": {},
   "source": [
    "## Floor Count"
   ]
  },
  {
   "cell_type": "code",
   "execution_count": 9,
   "metadata": {},
   "outputs": [],
   "source": [
    "df.dropna(subset=['unit'], inplace = True)"
   ]
  },
  {
   "cell_type": "code",
   "execution_count": 10,
   "metadata": {},
   "outputs": [],
   "source": [
    "# Setting up data to be able to model floor count\n",
    "df = pd.get_dummies(df, columns=['borough'])\n",
    "data = df[['floor_count','floornumber', 'has_childrens_playroom', 'has_pool', 'has_concierge', 'has_garage', 'has_gym', 'borough_Queens', 'borough_Bronx', 'borough_Manhattan', 'borough_Brooklyn', 'borough_Staten Island']]\n",
    "data = data.dropna(subset=['floor_count', 'floornumber'])\n",
    "data = data.reset_index()"
   ]
  },
  {
   "cell_type": "code",
   "execution_count": 11,
   "metadata": {},
   "outputs": [
    {
     "data": {
      "text/plain": [
       "LinearRegression(copy_X=True, fit_intercept=True, n_jobs=None, normalize=False)"
      ]
     },
     "execution_count": 11,
     "metadata": {},
     "output_type": "execute_result"
    }
   ],
   "source": [
    "# Fit the model\n",
    "\n",
    "clf = LinearRegression()\n",
    "features = ['floornumber', 'has_childrens_playroom', 'has_pool', 'has_concierge', 'has_garage', 'has_gym', 'borough_Queens', 'borough_Bronx', 'borough_Manhattan', 'borough_Brooklyn', 'borough_Staten Island']\n",
    "clf.fit(data[features], data['floor_count'])"
   ]
  },
  {
   "cell_type": "code",
   "execution_count": 12,
   "metadata": {},
   "outputs": [],
   "source": [
    "# Anything with floor count of 0 is labeled as NaN\n",
    "df.loc[df['floor_count'] == 0, 'floor_count'] = np.NaN"
   ]
  },
  {
   "cell_type": "code",
   "execution_count": 13,
   "metadata": {},
   "outputs": [],
   "source": [
    "test = df.loc[(df['floor_count'].isna()) & (df['floornumber'].isna() == 0)]"
   ]
  },
  {
   "cell_type": "code",
   "execution_count": 14,
   "metadata": {},
   "outputs": [],
   "source": [
    "# Predict with the model and round up to get floor count \n",
    "imputed_floorcount = np.ceil(clf.predict(test[features]))"
   ]
  },
  {
   "cell_type": "code",
   "execution_count": 15,
   "metadata": {},
   "outputs": [],
   "source": [
    "# Imput missing floor counts with predicted values\n",
    "df.loc[(df['floor_count'].isna()) & (df['floornumber'].isna() == 0), 'floor_count'] = imputed_floorcount"
   ]
  },
  {
   "cell_type": "code",
   "execution_count": 16,
   "metadata": {},
   "outputs": [],
   "source": [
    "# Manually fill in floor count for buildings where we don't have the floornumber or the floorcount \n",
    "df.loc[df['floor_count'].isna(), 'floor_count'] = [3.0, 3.0, 4.0, 7.0, 6.0, 2.0, 5.0, 6.0, 7.0, 6.0, 6.0, 18.0, 2.0, 4.0, 3.0, 12.0]"
   ]
  },
  {
   "cell_type": "code",
   "execution_count": 17,
   "metadata": {},
   "outputs": [],
   "source": [
    "# Make sure that the maximum floor count is at least the maximum floornumber for the given building\n",
    "df['floor_count'] = df[['floor_count', 'floornumber']].apply(lambda row: max(row['floor_count'], row['floornumber']), axis=1)"
   ]
  },
  {
   "cell_type": "markdown",
   "metadata": {},
   "source": [
    "## Floornumber"
   ]
  },
  {
   "cell_type": "code",
   "execution_count": 18,
   "metadata": {},
   "outputs": [],
   "source": [
    "df['unit_split'] = df['unit'].apply(lambda row: re.findall(r\"[^\\W\\d_]+|\\d+\", row))"
   ]
  },
  {
   "cell_type": "code",
   "execution_count": 19,
   "metadata": {},
   "outputs": [],
   "source": [
    "df['unit_num'] = df['unit_split'].apply(lambda row: list(filter(lambda x: x.isnumeric(), row)))"
   ]
  },
  {
   "cell_type": "code",
   "execution_count": 20,
   "metadata": {},
   "outputs": [],
   "source": [
    "df['unit_str'] = df['unit_split'].apply(lambda row: list(filter(lambda x: x.isnumeric() == 0, row)))"
   ]
  },
  {
   "cell_type": "code",
   "execution_count": 21,
   "metadata": {},
   "outputs": [],
   "source": [
    "# Make the floornumber the first number from the unit address\n",
    "\n",
    "floornumber_fill = df.loc[(df['floornumber'].isna()) & (df['unit_num'].apply(lambda row: len(row) > 0))].apply(\n",
    "    lambda row: int(row['unit_num'][0][0]) \n",
    "    if int(row['unit_num'][0][0]) <= row['floor_count'] \n",
    "    else np.NaN, axis = 1).dropna()\n",
    "\n",
    "floornumber_fill = floornumber_fill.loc[~floornumber_fill.index.duplicated(keep='first')]\n",
    "df['floornumber'].fillna(floornumber_fill, inplace=True)"
   ]
  },
  {
   "cell_type": "code",
   "execution_count": 22,
   "metadata": {},
   "outputs": [],
   "source": [
    "# A = first floor, B = second floor, C = third ...\n",
    "\n",
    "floornumber_fill = df.loc[(df['unit_num'].apply(lambda row: len(row) == 0)) & \n",
    "   (df['floornumber'].isna()) & \n",
    "   (df['unit_str'].apply(lambda row: len(row) > 0 and len(row[0]) == 1))].apply(\n",
    "        lambda row: float(ord(row['unit_str'][0]) - 64)\n",
    "        if float(ord(row['unit_str'][0]) - 64) <= row['floor_count']\n",
    "        else np.NaN, axis = 1\n",
    ").dropna()\n",
    "\n",
    "df['floornumber'].fillna(floornumber_fill, inplace=True)"
   ]
  },
  {
   "cell_type": "code",
   "execution_count": 23,
   "metadata": {},
   "outputs": [],
   "source": [
    "# if address contains TOP, make the floornumber top floor\n",
    "\n",
    "floornumber_fill = df.loc[df['addr_unit'].apply(lambda row: bool(re.match(r\".*TOP.*\", row)))].apply(\n",
    "    lambda row: row['floor_count'], axis = 1\n",
    ")\n",
    "\n",
    "df['floornumber'].fillna(floornumber_fill, inplace=True)"
   ]
  },
  {
   "cell_type": "code",
   "execution_count": 24,
   "metadata": {},
   "outputs": [],
   "source": [
    "# if address contains UP, make the floornumber top floor\n",
    "\n",
    "floornumber_fill = df.loc[df['addr_unit'].apply(lambda row: bool(re.match(r\".*UP.*\", row)))].apply(\n",
    "    lambda row: row['floor_count'], axis = 1\n",
    ")\n",
    "\n",
    "df['floornumber'].fillna(floornumber_fill, inplace=True)"
   ]
  },
  {
   "cell_type": "code",
   "execution_count": 25,
   "metadata": {},
   "outputs": [],
   "source": [
    "# if address contains GN -> Garden or ground -> floorcount = 1\n",
    "floornumber_fill = df.loc[df['addr_unit'].apply(lambda row: bool(re.match(r\".*G.*.*N.*\", row)))].apply(\n",
    "    lambda row: 1, axis = 1\n",
    ")\n",
    "\n",
    "df['floornumber'].fillna(floornumber_fill, inplace=True)"
   ]
  },
  {
   "cell_type": "code",
   "execution_count": 26,
   "metadata": {},
   "outputs": [],
   "source": [
    "# if address contains GD -> Garden or ground -> floorcount = 1, contains some things missed before due to misspelled words\n",
    "\n",
    "floornumber_fill = df.loc[df['addr_unit'].apply(lambda row: bool(re.match(r\".*G.*.D.*\", row)))].apply(\n",
    "    lambda row: 1, axis = 1\n",
    ")\n",
    "\n",
    "df['floornumber'].fillna(floornumber_fill, inplace=True)"
   ]
  },
  {
   "cell_type": "code",
   "execution_count": 27,
   "metadata": {},
   "outputs": [],
   "source": [
    "# Penthouse\n",
    "floornumber_fill = df.loc[df['addr_unit'].apply(lambda row: bool(re.match(r\".*PENT.*\", row)))].apply(\n",
    "    lambda row: row['floor_count'] , axis = 1\n",
    ")\n",
    "\n",
    "df['floornumber'].fillna(floornumber_fill, inplace=True)"
   ]
  },
  {
   "cell_type": "code",
   "execution_count": 28,
   "metadata": {},
   "outputs": [],
   "source": [
    "# PH = Penthouse\n",
    "floornumber_fill = df.loc[df['addr_unit'].apply(lambda row: bool(re.match(r\".*PH.*\", row)))].apply(\n",
    "    lambda row: row['floor_count'] , axis = 1\n",
    ")\n",
    "\n",
    "df['floornumber'].fillna(floornumber_fill, inplace=True)"
   ]
  },
  {
   "cell_type": "code",
   "execution_count": 29,
   "metadata": {},
   "outputs": [],
   "source": [
    "floornumber_fill = df.loc[df['addr_unit'].apply(lambda row: bool(re.match(r\".*ONE.*\", row)))].apply(\n",
    "    lambda row: 1 , axis = 1\n",
    ")\n",
    "\n",
    "df['floornumber'].fillna(floornumber_fill, inplace=True)"
   ]
  },
  {
   "cell_type": "code",
   "execution_count": 30,
   "metadata": {},
   "outputs": [],
   "source": [
    "floornumber_fill = df.loc[df['addr_unit'].apply(lambda row: bool(re.match(r\".*TWO.*\", row)))].apply(\n",
    "    lambda row: 2 , axis = 1\n",
    ")\n",
    "\n",
    "df['floornumber'].fillna(floornumber_fill, inplace=True)"
   ]
  },
  {
   "cell_type": "code",
   "execution_count": 31,
   "metadata": {},
   "outputs": [],
   "source": [
    "floornumber_fill = df.loc[df['addr_unit'].apply(lambda row: bool(re.match(r\".*THREE.*\", row)))].apply(\n",
    "    lambda row: 3 , axis = 1\n",
    ")\n",
    "\n",
    "df['floornumber'].fillna(floornumber_fill, inplace=True)"
   ]
  },
  {
   "cell_type": "code",
   "execution_count": 32,
   "metadata": {},
   "outputs": [],
   "source": [
    "df.loc[df['addr_unit'] == 'WALK-IN', 'floornumber'] = 1"
   ]
  },
  {
   "cell_type": "code",
   "execution_count": 33,
   "metadata": {},
   "outputs": [],
   "source": [
    "# Parlor \n",
    "floornumber_fill = df.loc[df['addr_unit'].apply(lambda row: bool(re.match(r\".*PA.*L.*R.*\", row)))].apply(\n",
    "    lambda row: 1, axis = 1\n",
    ")\n",
    "\n",
    "df['floornumber'].fillna(floornumber_fill, inplace=True)"
   ]
  },
  {
   "cell_type": "code",
   "execution_count": 34,
   "metadata": {},
   "outputs": [],
   "source": [
    "# Lower Level\n",
    "floornumber_fill = df.loc[df['addr_unit'].apply(lambda row: bool(re.match(r\".*LL.*\", row)))].apply(\n",
    "    lambda row: 1, axis = 1\n",
    ")\n",
    "\n",
    "df['floornumber'].fillna(floornumber_fill, inplace=True)"
   ]
  },
  {
   "cell_type": "code",
   "execution_count": 35,
   "metadata": {},
   "outputs": [],
   "source": [
    "# If we didn't get the answer from any previous conditions, make floornumber top floor ( shouldn't matter too much )\n",
    "floornumber_fill = df.loc[df['floornumber'].isna()].apply(lambda row: row['floor_count'], axis=1)\n",
    "floornumber_fill = floornumber_fill.loc[~floornumber_fill.index.duplicated(keep='first')]\n",
    "df['floornumber'].fillna(floornumber_fill, inplace=True)"
   ]
  },
  {
   "cell_type": "code",
   "execution_count": 36,
   "metadata": {},
   "outputs": [],
   "source": [
    "df['fn vs fc'] = (df['floornumber']/df['floor_count'])"
   ]
  },
  {
   "cell_type": "code",
   "execution_count": 37,
   "metadata": {},
   "outputs": [
    {
     "data": {
      "text/plain": [
       "-0.056268861175264855"
      ]
     },
     "execution_count": 37,
     "metadata": {},
     "output_type": "execute_result"
    }
   ],
   "source": [
    "# This actually ends up being less useful than the individual floorcount or floor number\n",
    "df['rent'].corr(df['fn vs fc'])"
   ]
  },
  {
   "cell_type": "code",
   "execution_count": 38,
   "metadata": {},
   "outputs": [],
   "source": [
    "# SLightly correlated but not significant\n",
    "df['is_penthouse']  = df['addr_unit'].apply(lambda row: 1 if bool(re.match(r\".*PENT.*\", row)) or bool(re.match(r\".*PH.*\", row)) else 0)"
   ]
  },
  {
   "cell_type": "code",
   "execution_count": 39,
   "metadata": {},
   "outputs": [
    {
     "data": {
      "text/plain": [
       "['has_doorman',\n",
       " 'has_elevator',\n",
       " 'has_fireplace',\n",
       " 'has_dishwasher',\n",
       " 'has_gym',\n",
       " 'has_washer_dryer',\n",
       " 'has_garage',\n",
       " 'has_roofdeck',\n",
       " 'has_concierge',\n",
       " 'has_pool',\n",
       " 'has_garden',\n",
       " 'has_childrens_playroom',\n",
       " 'is_furnished',\n",
       " 'allows_pets']"
      ]
     },
     "execution_count": 39,
     "metadata": {},
     "output_type": "execute_result"
    }
   ],
   "source": [
    "r = re.compile(r\"has.*\")\n",
    "fancy_stuff = list(filter(r.match, df.columns))\n",
    "fancy_stuff.extend(['is_furnished','allows_pets'])\n",
    "fancy_stuff"
   ]
  },
  {
   "cell_type": "code",
   "execution_count": 40,
   "metadata": {},
   "outputs": [],
   "source": [
    "df['number_privileges'] = np.sum(df[fancy_stuff].values,1)"
   ]
  },
  {
   "cell_type": "code",
   "execution_count": 41,
   "metadata": {},
   "outputs": [
    {
     "data": {
      "text/plain": [
       "bbl                      -0.344817\n",
       "bin                      -0.337302\n",
       "addr_zip                 -0.331636\n",
       "addr_lon                 -0.270914\n",
       "borough_Queens           -0.204074\n",
       "borough_Brooklyn         -0.174494\n",
       "borough_Bronx            -0.066022\n",
       "fn vs fc                 -0.056269\n",
       "building_id              -0.038601\n",
       "rental_id                -0.022906\n",
       "borough_Staten Island    -0.016443\n",
       "min_to_subway             0.000180\n",
       "year_built                0.002705\n",
       "no_fee                    0.012618\n",
       "has_garage                0.107574\n",
       "addr_lat                  0.109693\n",
       "is_furnished              0.119108\n",
       "has_garden                0.127704\n",
       "is_penthouse              0.145402\n",
       "has_fireplace             0.148379\n",
       "allows_pets               0.161957\n",
       "has_pool                  0.178431\n",
       "has_roofdeck              0.180323\n",
       "has_childrens_playroom    0.203476\n",
       "has_dishwasher            0.204021\n",
       "has_elevator              0.253649\n",
       "floornumber               0.267624\n",
       "has_gym                   0.269034\n",
       "has_concierge             0.277308\n",
       "floor_count               0.285492\n",
       "has_doorman               0.292225\n",
       "bedrooms                  0.332718\n",
       "borough_Manhattan         0.339714\n",
       "has_washer_dryer          0.345607\n",
       "number_privileges         0.376799\n",
       "bathrooms                 0.591407\n",
       "size_sqft                 0.622345\n",
       "rent                      1.000000\n",
       "Name: rent, dtype: float64"
      ]
     },
     "execution_count": 41,
     "metadata": {},
     "output_type": "execute_result"
    }
   ],
   "source": [
    "df.corr()['rent'].sort_values()"
   ]
  },
  {
   "cell_type": "code",
   "execution_count": 42,
   "metadata": {},
   "outputs": [
    {
     "data": {
      "text/plain": [
       "<matplotlib.axes._subplots.AxesSubplot at 0x2e6a89a8e08>"
      ]
     },
     "execution_count": 42,
     "metadata": {},
     "output_type": "execute_result"
    },
    {
     "data": {
      "image/png": "[encoded data removed]",
      "text/plain": [
       "<Figure size 1008x576 with 2 Axes>"
      ]
     },
     "metadata": {
      "needs_background": "light"
     },
     "output_type": "display_data"
    }
   ],
   "source": [
    "df[(df['rent']<5_000) ].plot(y='addr_lat', x='addr_lon', kind='scatter', alpha=0.4, c='rent', cmap=plt.get_cmap(\"jet\"), colorbar=True, figsize=(14,8))"
   ]
  },
  {
   "cell_type": "code",
   "execution_count": 43,
   "metadata": {},
   "outputs": [],
   "source": [
    "from googleplaces import GooglePlaces, types, lang"
   ]
  },
  {
   "cell_type": "code",
   "execution_count": 44,
   "metadata": {},
   "outputs": [],
   "source": [
    "# google_places = GooglePlaces(API KEY)"
   ]
  },
  {
   "cell_type": "code",
   "execution_count": 47,
   "metadata": {},
   "outputs": [],
   "source": [
    "coords_per_address = df[['addr_street', 'addr_lat', 'addr_lon']].groupby('addr_street').first()"
   ]
  },
  {
   "cell_type": "code",
   "execution_count": 222,
   "metadata": {},
   "outputs": [],
   "source": [
    "def number_of_places(place, lat, lon, radius):\n",
    "    query_result = google_places.nearby_search(\n",
    "        keyword=place,\n",
    "#         lat_lng={'lat':lat, 'lng':lon},\n",
    "        location='Woodhaven, New York',\n",
    "        radius=radius)\n",
    "    if query_result.has_next_page_token:\n",
    "        query_result_next_page = google_places.nearby_search(pagetoken=query_result.next_page_token)\n",
    "        return len(query_result.places) + len(query_result_next_page.places)\n",
    "\n",
    "    return len(query_result.places)"
   ]
  },
  {
   "cell_type": "code",
   "execution_count": 75,
   "metadata": {},
   "outputs": [],
   "source": [
    "# Functional method, sucks cuz if it fails for some reason halfway thru, have to start over \n",
    "# number_of_parks1 = coords_per_address.iloc[:101].apply(lambda row: number_of_places('park', row['addr_lat'], row['addr_lon'], 500), axis=1)\n",
    "# number_of_parks2 = []"
   ]
  },
  {
   "cell_type": "code",
   "execution_count": 142,
   "metadata": {},
   "outputs": [
    {
     "name": "stdout",
     "output_type": "stream",
     "text": [
      "100\n",
      "200\n",
      "300\n",
      "400\n",
      "500\n",
      "600\n",
      "700\n",
      "800\n",
      "900\n"
     ]
    }
   ],
   "source": [
    "# Imperative method, safer cuz I can resume from where I left off in case it fails halfway\n",
    "# i = 1\n",
    "# for index, row in coords_per_address.iterrows():\n",
    "#     if i % 100 == 0:\n",
    "#         print(i)\n",
    "#     query_result = google_places.nearby_search(\n",
    "#         keyword='park',\n",
    "#         lat_lng={'lat':row['addr_lat'], 'lng':row['addr_lon']},\n",
    "#         radius=500)\n",
    "#     number_of_parks2.append((index,len(query_result.places)))\n",
    "#     i += 1"
   ]
  },
  {
   "cell_type": "code",
   "execution_count": 156,
   "metadata": {},
   "outputs": [],
   "source": [
    "# Gathering results and exporting \n",
    "# number_of_parks2_series = (pd.DataFrame(number_of_parks2).set_index(0)[1])\n",
    "# number_of_parks = number_of_parks1.append(number_of_parks2_series)\n",
    "\n",
    "# num_parks_df = pd.DataFrame(number_of_parks, columns=['number_of_parks'])\n",
    "# num_parks_df\n",
    "\n",
    "# number_of_parks.to_csv('parks_per_neighborhood.csv')"
   ]
  },
  {
   "cell_type": "code",
   "execution_count": 265,
   "metadata": {},
   "outputs": [],
   "source": [
    "num_schools_arr = []"
   ]
  },
  {
   "cell_type": "code",
   "execution_count": 266,
   "metadata": {},
   "outputs": [
    {
     "name": "stdout",
     "output_type": "stream",
     "text": [
      "100\n",
      "200\n",
      "300\n",
      "400\n",
      "500\n",
      "600\n",
      "700\n",
      "800\n",
      "900\n",
      "1000\n",
      "1100\n",
      "1200\n",
      "1300\n",
      "1400\n",
      "1500\n",
      "1600\n",
      "1700\n",
      "1800\n",
      "1900\n",
      "2000\n",
      "2100\n",
      "2200\n",
      "2300\n",
      "2400\n",
      "2500\n",
      "2600\n",
      "2700\n",
      "2800\n",
      "2900\n",
      "3000\n",
      "3100\n",
      "3200\n",
      "3300\n",
      "3400\n",
      "3500\n",
      "3600\n",
      "3700\n",
      "3800\n",
      "3900\n",
      "4000\n",
      "4100\n",
      "4200\n",
      "4300\n",
      "4400\n",
      "4500\n",
      "4600\n",
      "4700\n",
      "4800\n",
      "4900\n",
      "5000\n",
      "5100\n",
      "5200\n",
      "5300\n",
      "5400\n",
      "5500\n",
      "5600\n",
      "5700\n",
      "5800\n",
      "5900\n",
      "6000\n",
      "6100\n",
      "6200\n",
      "6300\n",
      "6400\n",
      "6500\n",
      "6600\n",
      "6700\n",
      "6800\n",
      "6900\n",
      "7000\n",
      "7100\n",
      "7200\n",
      "7300\n",
      "7400\n",
      "7500\n",
      "7600\n",
      "7700\n",
      "7800\n",
      "7900\n"
     ]
    }
   ],
   "source": [
    "# #Imperative method, safer cuz I can resume from where I left off in case it fails halfway\n",
    "# i = 1\n",
    "# for index, row in coords_per_address.iterrows():\n",
    "#     if i % 100 == 0:\n",
    "#         print(i)\n",
    "#     query_result = google_places.nearby_search(\n",
    "#         keyword='school',\n",
    "#         lat_lng={'lat':row['addr_lat'], 'lng':row['addr_lon']},\n",
    "#         radius=400)\n",
    "#     num_schools_arr.append((index,len(query_result.places)))\n",
    "#     i += 1"
   ]
  },
  {
   "cell_type": "code",
   "execution_count": 274,
   "metadata": {},
   "outputs": [
    {
     "data": {
      "text/plain": [
       "0\n",
       "1 2 PLACE                19\n",
       "1 74 STREET               2\n",
       "1 BEAUMONT STREET        10\n",
       "1 BENNETT AVENUE         20\n",
       "1 BROADWAY TERRACE       19\n",
       "                         ..\n",
       "990 DECATUR STREET       16\n",
       "991 WILLOUGHBY AVENUE    13\n",
       "994 1 AVENUE             17\n",
       "995 EASTERN PARKWAY      20\n",
       "999 WILLOUGHBY AVENUE    13\n",
       "Name: 1, Length: 7930, dtype: int64"
      ]
     },
     "execution_count": 274,
     "metadata": {},
     "output_type": "execute_result"
    }
   ],
   "source": [
    "# num_schools = (pd.DataFrame(num_schools_arr).set_index(0)[1])\n",
    "# num_schools"
   ]
  },
  {
   "cell_type": "code",
   "execution_count": 288,
   "metadata": {},
   "outputs": [],
   "source": [
    "# num_schools_df = pd.DataFrame(num_schools)\n",
    "# num_schools_df = num_schools_df.rename(columns={1:'number_of_schools'})"
   ]
  },
  {
   "cell_type": "code",
   "execution_count": 291,
   "metadata": {},
   "outputs": [],
   "source": [
    "# num_schools_df.to_csv('schools_per_address.csv')"
   ]
  },
  {
   "cell_type": "code",
   "execution_count": 299,
   "metadata": {},
   "outputs": [],
   "source": [
    "df['number_of_schools'] = df.apply(lambda row: num_schools[row['addr_street']], axis=1)"
   ]
  },
  {
   "cell_type": "code",
   "execution_count": 300,
   "metadata": {},
   "outputs": [
    {
     "data": {
      "text/plain": [
       "rental_id                -0.022906\n",
       "building_id              -0.038601\n",
       "bedrooms                  0.332718\n",
       "bathrooms                 0.591407\n",
       "size_sqft                 0.622345\n",
       "addr_zip                 -0.331636\n",
       "addr_lat                  0.109693\n",
       "addr_lon                 -0.270914\n",
       "bin                      -0.337302\n",
       "bbl                      -0.344817\n",
       "floor_count               0.285492\n",
       "year_built                0.002705\n",
       "min_to_subway             0.000180\n",
       "has_doorman               0.292225\n",
       "has_elevator              0.253649\n",
       "has_fireplace             0.148379\n",
       "has_dishwasher            0.204021\n",
       "is_furnished              0.119108\n",
       "has_gym                   0.269034\n",
       "allows_pets               0.161957\n",
       "has_washer_dryer          0.345607\n",
       "has_garage                0.107574\n",
       "has_roofdeck              0.180323\n",
       "has_concierge             0.277308\n",
       "has_pool                  0.178431\n",
       "has_garden                0.127704\n",
       "has_childrens_playroom    0.203476\n",
       "rent                      1.000000\n",
       "no_fee                    0.012618\n",
       "floornumber               0.267624\n",
       "borough_Bronx            -0.066022\n",
       "borough_Brooklyn         -0.174494\n",
       "borough_Manhattan         0.339714\n",
       "borough_Queens           -0.204074\n",
       "borough_Staten Island    -0.016443\n",
       "fn vs fc                 -0.056269\n",
       "is_penthouse              0.145402\n",
       "number_privileges         0.376799\n",
       "number_of_parks           0.224111\n",
       "number_of_schools         0.232927\n",
       "Name: rent, dtype: float64"
      ]
     },
     "execution_count": 300,
     "metadata": {},
     "output_type": "execute_result"
    }
   ],
   "source": [
    "df.corr()['rent']"
   ]
  },
  {
   "cell_type": "code",
   "execution_count": 373,
   "metadata": {},
   "outputs": [
    {
     "data": {
      "text/plain": [
       "<matplotlib.axes._subplots.AxesSubplot at 0x2e7511bc608>"
      ]
     },
     "execution_count": 373,
     "metadata": {},
     "output_type": "execute_result"
    },
    {
     "data": {
      "image/png": "[encoded data removed]",
      "text/plain": [
       "<Figure size 432x288 with 1 Axes>"
      ]
     },
     "metadata": {
      "needs_background": "light"
     },
     "output_type": "display_data"
    }
   ],
   "source": [
    "df['number_of_parks'].hist(bins=3, ec='k')"
   ]
  },
  {
   "cell_type": "code",
   "execution_count": 425,
   "metadata": {},
   "outputs": [],
   "source": [
    "df['park_level'] = df['number_of_parks'].apply(lambda x: 'HIGH' if x > 12 else ('MEDIUM' if x > 6 else 'LOW'))"
   ]
  },
  {
   "cell_type": "code",
   "execution_count": 426,
   "metadata": {},
   "outputs": [],
   "source": [
    "df = pd.get_dummies(df, columns=['park_level'])"
   ]
  },
  {
   "cell_type": "code",
   "execution_count": 437,
   "metadata": {},
   "outputs": [
    {
     "data": {
      "text/plain": [
       "<matplotlib.axes._subplots.AxesSubplot at 0x2e7d14cd4c8>"
      ]
     },
     "execution_count": 437,
     "metadata": {},
     "output_type": "execute_result"
    },
    {
     "data": {
      "image/png": "[encoded data removed]",
      "text/plain": [
       "<Figure size 432x288 with 1 Axes>"
      ]
     },
     "metadata": {
      "needs_background": "light"
     },
     "output_type": "display_data"
    }
   ],
   "source": [
    "df['number_of_schools'].hist(bins=2, ec = 'k')"
   ]
  },
  {
   "cell_type": "code",
   "execution_count": 423,
   "metadata": {},
   "outputs": [],
   "source": [
    "df['school_level'] = df['number_of_schools'].apply(lambda x: 1 if x > 19 else 0)"
   ]
  },
  {
   "cell_type": "code",
   "execution_count": 418,
   "metadata": {},
   "outputs": [],
   "source": [
    "df.drop(['school_level_HIGH', 'school_level_LOW'], axis = 1, inplace = True)"
   ]
  }
 ],
 "metadata": {
  "kernelspec": {
   "display_name": "Python 3",
   "language": "python",
   "name": "python3"
  },
  "language_info": {
   "codemirror_mode": {
    "name": "ipython",
    "version": 3
   },
   "file_extension": ".py",
   "mimetype": "text/x-python",
   "name": "python",
   "nbconvert_exporter": "python",
   "pygments_lexer": "ipython3",
   "version": "3.7.4"
  }
 },
 "nbformat": 4,
 "nbformat_minor": 2
}
