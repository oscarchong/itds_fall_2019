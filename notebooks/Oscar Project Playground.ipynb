{
 "cells": [
  {
   "cell_type": "code",
   "execution_count": 122,
   "metadata": {},
   "outputs": [],
   "source": [
    "import numpy as np\n",
    "import pandas as pd\n",
    "import matplotlib.pyplot as plt\n",
    "\n",
    "from sklearn.linear_model import LinearRegression\n",
    "from sklearn.metrics import mean_squared_error\n",
    "\n",
    "from sklearn.ensemble import RandomForestRegressor\n",
    "\n",
    "%matplotlib inline"
   ]
  },
  {
   "cell_type": "code",
   "execution_count": 123,
   "metadata": {},
   "outputs": [],
   "source": [
    "test2 = pd.read_csv('./SE_rents2018_test2.csv', index_col=0)\n",
    "test1 = pd.read_csv('./SE_rents2018_test1.csv', index_col=0)\n",
    "train1 = pd.read_csv('./SE_rents2018_train.csv', index_col=0)"
   ]
  },
  {
   "cell_type": "code",
   "execution_count": 124,
   "metadata": {},
   "outputs": [
    {
     "data": {
      "text/html": [
       "<div>\n",
       "<style scoped>\n",
       "    .dataframe tbody tr th:only-of-type {\n",
       "        vertical-align: middle;\n",
       "    }\n",
       "\n",
       "    .dataframe tbody tr th {\n",
       "        vertical-align: top;\n",
       "    }\n",
       "\n",
       "    .dataframe thead th {\n",
       "        text-align: right;\n",
       "    }\n",
       "</style>\n",
       "<table border=\"1\" class=\"dataframe\">\n",
       "  <thead>\n",
       "    <tr style=\"text-align: right;\">\n",
       "      <th></th>\n",
       "      <th>addr_unit</th>\n",
       "      <th>building_id</th>\n",
       "      <th>bedrooms</th>\n",
       "      <th>bathrooms</th>\n",
       "      <th>size_sqft</th>\n",
       "      <th>created_at</th>\n",
       "      <th>addr_street</th>\n",
       "      <th>addr_city</th>\n",
       "      <th>addr_zip</th>\n",
       "      <th>addr_lat</th>\n",
       "      <th>...</th>\n",
       "      <th>has_garden</th>\n",
       "      <th>has_childrens_playroom</th>\n",
       "      <th>rent</th>\n",
       "      <th>no_fee</th>\n",
       "      <th>description</th>\n",
       "      <th>neighborhood</th>\n",
       "      <th>borough</th>\n",
       "      <th>unit</th>\n",
       "      <th>floornumber</th>\n",
       "      <th>line</th>\n",
       "    </tr>\n",
       "    <tr>\n",
       "      <th>rental_id</th>\n",
       "      <th></th>\n",
       "      <th></th>\n",
       "      <th></th>\n",
       "      <th></th>\n",
       "      <th></th>\n",
       "      <th></th>\n",
       "      <th></th>\n",
       "      <th></th>\n",
       "      <th></th>\n",
       "      <th></th>\n",
       "      <th></th>\n",
       "      <th></th>\n",
       "      <th></th>\n",
       "      <th></th>\n",
       "      <th></th>\n",
       "      <th></th>\n",
       "      <th></th>\n",
       "      <th></th>\n",
       "      <th></th>\n",
       "      <th></th>\n",
       "      <th></th>\n",
       "    </tr>\n",
       "  </thead>\n",
       "  <tbody>\n",
       "    <tr>\n",
       "      <th>7298014</th>\n",
       "      <td>#1R</td>\n",
       "      <td>391426</td>\n",
       "      <td>4</td>\n",
       "      <td>2.0</td>\n",
       "      <td>1350.0</td>\n",
       "      <td>2018-06-22 11:26:28</td>\n",
       "      <td>208 STARR STREET</td>\n",
       "      <td>Brooklyn</td>\n",
       "      <td>11237</td>\n",
       "      <td>40.704810</td>\n",
       "      <td>...</td>\n",
       "      <td>0</td>\n",
       "      <td>0</td>\n",
       "      <td>5499</td>\n",
       "      <td>1</td>\n",
       "      <td>Location Location Location!\\r\\nPrime Bushwick\\...</td>\n",
       "      <td>Bushwick</td>\n",
       "      <td>Brooklyn</td>\n",
       "      <td>1R</td>\n",
       "      <td>1.0</td>\n",
       "      <td>R</td>\n",
       "    </tr>\n",
       "    <tr>\n",
       "      <th>7398274</th>\n",
       "      <td>#5Q</td>\n",
       "      <td>361810</td>\n",
       "      <td>0</td>\n",
       "      <td>1.0</td>\n",
       "      <td>403.0</td>\n",
       "      <td>2018-07-24 16:05:53</td>\n",
       "      <td>26 WEST STREET</td>\n",
       "      <td>Brooklyn</td>\n",
       "      <td>11222</td>\n",
       "      <td>40.727250</td>\n",
       "      <td>...</td>\n",
       "      <td>0</td>\n",
       "      <td>0</td>\n",
       "      <td>2625</td>\n",
       "      <td>1</td>\n",
       "      <td>5th floor Studio with private balcony becoming...</td>\n",
       "      <td>Greenpoint</td>\n",
       "      <td>Brooklyn</td>\n",
       "      <td>5Q</td>\n",
       "      <td>5.0</td>\n",
       "      <td>Q</td>\n",
       "    </tr>\n",
       "    <tr>\n",
       "      <th>7410316</th>\n",
       "      <td>#3</td>\n",
       "      <td>201967</td>\n",
       "      <td>2</td>\n",
       "      <td>1.0</td>\n",
       "      <td>1000.0</td>\n",
       "      <td>2018-07-25 21:42:46</td>\n",
       "      <td>83 ST MARK'S PLACE</td>\n",
       "      <td>Brooklyn</td>\n",
       "      <td>11217</td>\n",
       "      <td>40.681794</td>\n",
       "      <td>...</td>\n",
       "      <td>1</td>\n",
       "      <td>0</td>\n",
       "      <td>2999</td>\n",
       "      <td>0</td>\n",
       "      <td>PARK SLOPE NORTH\\r\\nMinutes Atlantic Terminal ...</td>\n",
       "      <td>Park Slope</td>\n",
       "      <td>Brooklyn</td>\n",
       "      <td>3</td>\n",
       "      <td>3.0</td>\n",
       "      <td>NaN</td>\n",
       "    </tr>\n",
       "    <tr>\n",
       "      <th>7228219</th>\n",
       "      <td>#3LL</td>\n",
       "      <td>24151</td>\n",
       "      <td>1</td>\n",
       "      <td>1.0</td>\n",
       "      <td>785.0</td>\n",
       "      <td>2018-06-01 13:28:34</td>\n",
       "      <td>85 FOURTH AVENUE</td>\n",
       "      <td>New York</td>\n",
       "      <td>10003</td>\n",
       "      <td>40.731503</td>\n",
       "      <td>...</td>\n",
       "      <td>1</td>\n",
       "      <td>0</td>\n",
       "      <td>4450</td>\n",
       "      <td>1</td>\n",
       "      <td>*No Fee and Deposit Free with Rhino Protection...</td>\n",
       "      <td>East Village</td>\n",
       "      <td>Manhattan</td>\n",
       "      <td>3LL</td>\n",
       "      <td>3.0</td>\n",
       "      <td>LL</td>\n",
       "    </tr>\n",
       "    <tr>\n",
       "      <th>7294957</th>\n",
       "      <td>#2C</td>\n",
       "      <td>1265863</td>\n",
       "      <td>2</td>\n",
       "      <td>1.0</td>\n",
       "      <td>650.0</td>\n",
       "      <td>2018-06-21 14:06:34</td>\n",
       "      <td>28-46 34 STREET</td>\n",
       "      <td>Astoria</td>\n",
       "      <td>11103</td>\n",
       "      <td>40.766284</td>\n",
       "      <td>...</td>\n",
       "      <td>0</td>\n",
       "      <td>0</td>\n",
       "      <td>2295</td>\n",
       "      <td>1</td>\n",
       "      <td>**HEART OF ASTORIA** **RENOVATED** This true 2...</td>\n",
       "      <td>Astoria</td>\n",
       "      <td>Queens</td>\n",
       "      <td>2C</td>\n",
       "      <td>2.0</td>\n",
       "      <td>C</td>\n",
       "    </tr>\n",
       "  </tbody>\n",
       "</table>\n",
       "<p>5 rows × 38 columns</p>\n",
       "</div>"
      ],
      "text/plain": [
       "          addr_unit  building_id  bedrooms  bathrooms  size_sqft  \\\n",
       "rental_id                                                          \n",
       "7298014         #1R       391426         4        2.0     1350.0   \n",
       "7398274         #5Q       361810         0        1.0      403.0   \n",
       "7410316          #3       201967         2        1.0     1000.0   \n",
       "7228219        #3LL        24151         1        1.0      785.0   \n",
       "7294957         #2C      1265863         2        1.0      650.0   \n",
       "\n",
       "                    created_at         addr_street addr_city  addr_zip  \\\n",
       "rental_id                                                                \n",
       "7298014    2018-06-22 11:26:28    208 STARR STREET  Brooklyn     11237   \n",
       "7398274    2018-07-24 16:05:53      26 WEST STREET  Brooklyn     11222   \n",
       "7410316    2018-07-25 21:42:46  83 ST MARK'S PLACE  Brooklyn     11217   \n",
       "7228219    2018-06-01 13:28:34    85 FOURTH AVENUE  New York     10003   \n",
       "7294957    2018-06-21 14:06:34     28-46 34 STREET   Astoria     11103   \n",
       "\n",
       "            addr_lat  ...   has_garden  has_childrens_playroom  rent  no_fee  \\\n",
       "rental_id             ...                                                      \n",
       "7298014    40.704810  ...            0                       0  5499       1   \n",
       "7398274    40.727250  ...            0                       0  2625       1   \n",
       "7410316    40.681794  ...            1                       0  2999       0   \n",
       "7228219    40.731503  ...            1                       0  4450       1   \n",
       "7294957    40.766284  ...            0                       0  2295       1   \n",
       "\n",
       "                                                 description  neighborhood  \\\n",
       "rental_id                                                                    \n",
       "7298014    Location Location Location!\\r\\nPrime Bushwick\\...      Bushwick   \n",
       "7398274    5th floor Studio with private balcony becoming...    Greenpoint   \n",
       "7410316    PARK SLOPE NORTH\\r\\nMinutes Atlantic Terminal ...    Park Slope   \n",
       "7228219    *No Fee and Deposit Free with Rhino Protection...  East Village   \n",
       "7294957    **HEART OF ASTORIA** **RENOVATED** This true 2...       Astoria   \n",
       "\n",
       "             borough  unit  floornumber  line  \n",
       "rental_id                                      \n",
       "7298014     Brooklyn    1R          1.0     R  \n",
       "7398274     Brooklyn    5Q          5.0     Q  \n",
       "7410316     Brooklyn     3          3.0   NaN  \n",
       "7228219    Manhattan   3LL          3.0    LL  \n",
       "7294957       Queens    2C          2.0     C  \n",
       "\n",
       "[5 rows x 38 columns]"
      ]
     },
     "execution_count": 124,
     "metadata": {},
     "output_type": "execute_result"
    }
   ],
   "source": [
    "train1.sample(5)"
   ]
  },
  {
   "cell_type": "code",
   "execution_count": 125,
   "metadata": {},
   "outputs": [],
   "source": [
    "feature_cols = [\n",
    "    'bedrooms', 'bathrooms', 'floornumber', \n",
    "    'has_childrens_playroom', 'has_pool', \n",
    "    'has_concierge', 'has_garage', 'has_gym', \n",
    "    'is_furnished','allows_pets'\n",
    "]\n",
    "train_features = train1[feature_cols] \n",
    "\n",
    "# impute missing values with medians\n",
    "train_features = train_features.fillna(train_features.median(), axis=0)\n",
    "\n",
    "# construct target vector\n",
    "train_target = train1['rent']"
   ]
  },
  {
   "cell_type": "code",
   "execution_count": 126,
   "metadata": {},
   "outputs": [
    {
     "data": {
      "text/plain": [
       "LinearRegression(copy_X=True, fit_intercept=True, n_jobs=None,\n",
       "         normalize=False)"
      ]
     },
     "execution_count": 126,
     "metadata": {},
     "output_type": "execute_result"
    }
   ],
   "source": [
    "# using linear regression method\n",
    "lreg = LinearRegression()\n",
    "lreg.fit(train_features, train_target)"
   ]
  },
  {
   "cell_type": "code",
   "execution_count": 127,
   "metadata": {},
   "outputs": [
    {
     "name": "stdout",
     "output_type": "stream",
     "text": [
      "Mean Squared Error for Test1(Linear Regression): 4529358.208464365\n"
     ]
    }
   ],
   "source": [
    "test_features = test1[feature_cols] \n",
    "\n",
    "# impute missing values with medians\n",
    "test_features = test_features.fillna(train_features.median(), axis=0)\n",
    "\n",
    "# construct predictions \n",
    "test1['predicted'] = lreg.predict(test_features)\n",
    "print(\"Mean Squared Error for Test1(Linear Regression):\",mean_squared_error(test1['rent'], test1['predicted']))"
   ]
  },
  {
   "cell_type": "code",
   "execution_count": 128,
   "metadata": {},
   "outputs": [
    {
     "name": "stdout",
     "output_type": "stream",
     "text": [
      "Mean Squared Error for Test1(Random Forest Regressor): 3690651.8474690663\n"
     ]
    },
    {
     "name": "stderr",
     "output_type": "stream",
     "text": [
      "/Users/Oscar/anaconda3/lib/python3.7/site-packages/sklearn/ensemble/forest.py:246: FutureWarning: The default value of n_estimators will change from 10 in version 0.20 to 100 in 0.22.\n",
      "  \"10 in version 0.20 to 100 in 0.22.\", FutureWarning)\n"
     ]
    }
   ],
   "source": [
    "rf = RandomForestRegressor()\n",
    "rf.fit(train_features, train_target)\n",
    "\n",
    "# construct predictions \n",
    "test1['predicted'] = rf.predict(test_features)\n",
    "print(\"Mean Squared Error for Test1(Random Forest Regressor):\",mean_squared_error(test1['rent'], test1['predicted']))"
   ]
  },
  {
   "cell_type": "code",
   "execution_count": 129,
   "metadata": {
    "scrolled": true
   },
   "outputs": [
    {
     "data": {
      "text/plain": [
       "RandomForestRegressor(bootstrap=True, criterion='mse', max_depth=None,\n",
       "           max_features='auto', max_leaf_nodes=None,\n",
       "           min_impurity_decrease=0.0, min_impurity_split=None,\n",
       "           min_samples_leaf=1, min_samples_split=2,\n",
       "           min_weight_fraction_leaf=0.0, n_estimators=10, n_jobs=None,\n",
       "           oob_score=False, random_state=None, verbose=0, warm_start=False)"
      ]
     },
     "execution_count": 129,
     "metadata": {},
     "output_type": "execute_result"
    }
   ],
   "source": [
    "#Combine data to increase total training data\n",
    "master_df = train1.append(test1, sort=False)\n",
    "\n",
    "master_features = master_df[feature_cols].fillna(master_df[feature_cols].median(), axis=0)\n",
    "master_target = master_df['rent']\n",
    "\n",
    "rf.fit(master_features, master_target)"
   ]
  },
  {
   "cell_type": "code",
   "execution_count": 130,
   "metadata": {},
   "outputs": [
    {
     "name": "stdout",
     "output_type": "stream",
     "text": [
      "Mean Squared Error for Test2:  6588950.597649638\n"
     ]
    }
   ],
   "source": [
    "#handling missing data\n",
    "test2_features = test2[feature_cols].fillna(master_df[feature_cols].median(), axis=0)\n",
    "\n",
    "test2['rent'] = rf.predict(submit1_features)\n",
    "test2['rent'].to_csv('test2.csv', header=True)\n",
    "\n",
    "test2['median_rent'] = np.ones(test2['rent'].shape) * master_target.median()\n",
    "print(\"Mean Squared Error for Test2: \",mean_squared_error(test2['rent'], test2['median_rent']))"
   ]
  },
  {
   "cell_type": "code",
   "execution_count": null,
   "metadata": {},
   "outputs": [],
   "source": []
  }
 ],
 "metadata": {
  "kernelspec": {
   "display_name": "Python 3",
   "language": "python",
   "name": "python3"
  },
  "language_info": {
   "codemirror_mode": {
    "name": "ipython",
    "version": 3
   },
   "file_extension": ".py",
   "mimetype": "text/x-python",
   "name": "python",
   "nbconvert_exporter": "python",
   "pygments_lexer": "ipython3",
   "version": "3.7.1"
  }
 },
 "nbformat": 4,
 "nbformat_minor": 2
}
